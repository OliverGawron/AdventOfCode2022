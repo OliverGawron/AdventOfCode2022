{
  "nbformat": 4,
  "nbformat_minor": 0,
  "metadata": {
    "colab": {
      "provenance": [],
      "collapsed_sections": [
        "E4QBw_gUlk-7",
        "ZVOpXtpfJ9YM",
        "op4P0Cj3p_7T"
      ],
      "authorship_tag": "ABX9TyOSI/gFXzUR7d4d+sv3BEtF"
    },
    "kernelspec": {
      "name": "python3",
      "display_name": "Python 3"
    },
    "language_info": {
      "name": "python"
    }
  },
  "cells": [
    {
      "cell_type": "code",
      "execution_count": 1,
      "metadata": {
        "id": "YV29Ucr1hf74"
      },
      "outputs": [],
      "source": [
        "def getDataFromGitHub(day):\n",
        "  import requests\n",
        "  repo = 'https://raw.githubusercontent.com/OliverGawron/AdventOfCode2022/main/Data/';\n",
        "  fullpath = repo + 'Day' + str(day)\n",
        "  r = requests.get(fullpath)\n",
        "  return r.text.splitlines()"
      ]
    },
    {
      "cell_type": "markdown",
      "source": [
        "# Day 1\n",
        "Part 1"
      ],
      "metadata": {
        "id": "E4QBw_gUlk-7"
      }
    },
    {
      "cell_type": "code",
      "source": [
        "calories = getDataFromGitHub(1)\n",
        "elfs = []\n",
        "sum = 0\n",
        "for i in calories:\n",
        "  if(i == ''):\n",
        "    elfs.append(sum)\n",
        "    sum = 0;\n",
        "    continue\n",
        "  sum += int(i)\n",
        "max(elfs)"
      ],
      "metadata": {
        "colab": {
          "base_uri": "https://localhost:8080/"
        },
        "id": "86tJazHWli4E",
        "outputId": "7e393c38-9a45-4ec3-aa85-513a7268119b"
      },
      "execution_count": null,
      "outputs": [
        {
          "output_type": "execute_result",
          "data": {
            "text/plain": [
              "67450"
            ]
          },
          "metadata": {},
          "execution_count": 2
        }
      ]
    },
    {
      "cell_type": "markdown",
      "source": [
        "Part 2"
      ],
      "metadata": {
        "id": "9ExU-62uv1qb"
      }
    },
    {
      "cell_type": "code",
      "source": [
        "elfs.sort(reverse = True)\n",
        "firstthree = 0\n",
        "for i in range(3):\n",
        "  firstthree += elfs[i]\n",
        "firstthree"
      ],
      "metadata": {
        "colab": {
          "base_uri": "https://localhost:8080/"
        },
        "id": "YxCYLeAWv3BA",
        "outputId": "cf433866-be5f-4718-9b7a-ece1fa81e8a3"
      },
      "execution_count": null,
      "outputs": [
        {
          "output_type": "execute_result",
          "data": {
            "text/plain": [
              "199357"
            ]
          },
          "metadata": {},
          "execution_count": 4
        }
      ]
    },
    {
      "cell_type": "markdown",
      "source": [
        "# Day 2\n",
        "Part 1"
      ],
      "metadata": {
        "id": "ZVOpXtpfJ9YM"
      }
    },
    {
      "cell_type": "code",
      "source": [
        "def charToNum(char):\n",
        "  num = ord(char) -64\n",
        "  if(num > 23):\n",
        "    num-= 23\n",
        "  return num\n",
        "def winscore(opponent, you):\n",
        "  if(charToNum(opponent)-charToNum(you) == 0):\n",
        "    return 3\n",
        "  if(opponent == 'A'):\n",
        "    if(you =='Z'):\n",
        "      return 0\n",
        "    else:\n",
        "      return 6\n",
        "  if(opponent == 'B'):\n",
        "    if(you == 'X'):\n",
        "      return 0\n",
        "    else:\n",
        "      return 6\n",
        "  if(opponent == 'C'):\n",
        "    if(you == 'Y'):\n",
        "      return 0\n",
        "    else:\n",
        "      return 6\n",
        "  \n",
        "def calculatescore(opponent, you):\n",
        "  score = 0\n",
        "  score += winscore(opponent,you)\n",
        "  score += charToNum(you)\n",
        "  return score\n",
        "\n",
        "\n",
        "cheatsheet = getDataFromGitHub(2)\n",
        "\n",
        "sum = 0\n",
        "for i in range(len(cheatsheet)):\n",
        "  values = cheatsheet[i].split()\n",
        "  sum += calculatescore(values[0],values[1])\n",
        "sum"
      ],
      "metadata": {
        "colab": {
          "base_uri": "https://localhost:8080/"
        },
        "id": "lGp1aSX2KA9_",
        "outputId": "49278db3-4e91-4285-a3ae-bef317fa4bfc"
      },
      "execution_count": null,
      "outputs": [
        {
          "output_type": "execute_result",
          "data": {
            "text/plain": [
              "15691"
            ]
          },
          "metadata": {},
          "execution_count": 37
        }
      ]
    },
    {
      "cell_type": "markdown",
      "source": [
        "Part 2"
      ],
      "metadata": {
        "id": "Anp3mBoDc15M"
      }
    },
    {
      "cell_type": "code",
      "source": [
        "def GetMove(opponent, outcome):#yes yes, i know this method is badly written but i really dont want to use enum and stuff in python so IF statements it is. I like IF statements.\n",
        "  if(outcome == 'Y'):\n",
        "    return(chr(ord(opponent) + 23)) \n",
        "  if(opponent == 'A'):\n",
        "    if(outcome == 'X'):\n",
        "      return 'Z'\n",
        "    else:\n",
        "      return 'Y'\n",
        "  if(opponent == 'B'):\n",
        "    if(outcome == 'X'):\n",
        "      return 'X'\n",
        "    else:\n",
        "      return 'Z'\n",
        "  if(opponent == 'C'):\n",
        "    if(outcome == 'X'):\n",
        "      return 'Y'\n",
        "    else:\n",
        "      return 'X'\n",
        "\n",
        "cheatsheet = getDataFromGitHub(2)\n",
        "\n",
        "sum = 0\n",
        "for i in range(len(cheatsheet)):\n",
        "  values = cheatsheet[i].split()\n",
        "  mymove = GetMove(values[0],values[1])\n",
        "  sum += calculatescore(values[0],mymove)\n",
        "sum"
      ],
      "metadata": {
        "colab": {
          "base_uri": "https://localhost:8080/"
        },
        "id": "X--oEo89c3hv",
        "outputId": "a06d7b14-b0ab-4bd8-943c-f2705016b9c5"
      },
      "execution_count": null,
      "outputs": [
        {
          "output_type": "execute_result",
          "data": {
            "text/plain": [
              "12989"
            ]
          },
          "metadata": {},
          "execution_count": 38
        }
      ]
    },
    {
      "cell_type": "markdown",
      "source": [
        "# Day 3\n",
        "Part 1"
      ],
      "metadata": {
        "id": "op4P0Cj3p_7T"
      }
    },
    {
      "cell_type": "code",
      "source": [
        "def backpackCharToNum(char):\n",
        "  asciicode= ord(char)\n",
        "  if(asciicode > 96):\n",
        "    asciicode -= 96\n",
        "  else:\n",
        "    asciicode -= 38\n",
        "  return asciicode\n",
        "\n",
        "\n",
        "allbackpacks = getDataFromGitHub(3)\n",
        "splittedbackpacks = []\n",
        "for i in range(len (allbackpacks)):\n",
        "  asNumbers = []\n",
        "  for c in allbackpacks[i]:\n",
        "    asNumbers.append(backpackCharToNum(c))\n",
        "  allbackpacks[i] = asNumbers\n",
        "  length = len(allbackpacks[i])\n",
        "  firstpart = allbackpacks[i][:length//2]\n",
        "  secondpart = allbackpacks[i][length//2:]\n",
        "\n",
        "  splittedbackpacks.append([firstpart,secondpart])\n",
        "\n",
        "score = 0\n",
        "for pack in splittedbackpacks:\n",
        "  samenumber = list(set(pack[0]).intersection(pack[1]))\n",
        "  score += samenumber[0]\n",
        "score\n"
      ],
      "metadata": {
        "colab": {
          "base_uri": "https://localhost:8080/"
        },
        "id": "j5SM80TiqDQA",
        "outputId": "0b840ea6-861e-410f-85ed-097c77c0077a"
      },
      "execution_count": null,
      "outputs": [
        {
          "output_type": "execute_result",
          "data": {
            "text/plain": [
              "7889"
            ]
          },
          "metadata": {},
          "execution_count": 28
        }
      ]
    },
    {
      "cell_type": "markdown",
      "source": [
        "Part 2"
      ],
      "metadata": {
        "id": "MLQn8SNNw8di"
      }
    },
    {
      "cell_type": "code",
      "source": [
        "def sameItem(backpacks):\n",
        "  return set.intersection(*[set(list) for list in backpacks]).pop()\n",
        "  \n",
        "priorities = 0\n",
        "for i in range(0,len(allbackpacks),3):\n",
        "  b1 = allbackpacks[i]\n",
        "  b2 = allbackpacks[i +1]\n",
        "  b3 = allbackpacks[i+ 2]\n",
        "  \n",
        "  priorities += sameItem([b1,b2,b3])\n",
        "priorities"
      ],
      "metadata": {
        "colab": {
          "base_uri": "https://localhost:8080/"
        },
        "id": "eE5zO6Vkw9vy",
        "outputId": "166fdf7b-fd4d-44f5-ed3f-b6ec1bbd2935"
      },
      "execution_count": null,
      "outputs": [
        {
          "output_type": "execute_result",
          "data": {
            "text/plain": [
              "2825"
            ]
          },
          "metadata": {},
          "execution_count": 48
        }
      ]
    },
    {
      "cell_type": "markdown",
      "source": [
        "# Day 4\n",
        "Part 1"
      ],
      "metadata": {
        "id": "rVsB7qJlCg6T"
      }
    },
    {
      "cell_type": "code",
      "source": [
        "\n",
        "\n",
        "def GetMinMaxPair(pair):\n",
        "  splitted = pair.split(',')\n",
        "  firstassignment = ToMinMaxList(splitted[0])\n",
        "  secondassignment = ToMinMaxList(splitted[1])\n",
        "  return firstassignment,secondassignment\n",
        "\n",
        "def ToMinMaxList(assignment):\n",
        "  minmax = assignment.split('-')\n",
        "  minmax[0] = int(minmax[0])\n",
        "  minmax[1] = int(minmax[1])\n",
        "  return minmax\n",
        "\n",
        "def TowMinMaxesContaineachOther(first,second):\n",
        "  return FirstMinmaxFullyContainsSecond(first,second) or FirstMinmaxFullyContainsSecond(second,first)\n",
        "\n",
        "def FirstMinmaxFullyContainsSecond(f,s):\n",
        "  if(f[0] > s[0]):\n",
        "    return False\n",
        "  if(f[1] < s[1]):\n",
        "    return False\n",
        "  return True\n",
        "\n",
        "allpairings = getDataFromGitHub(4)\n",
        "AmountOfPairingsThatFullyContainEachOther = 0\n",
        "for pairing in allpairings:\n",
        "  firstminmax, secondminmax = GetMinMaxPair(pairing)\n",
        "  if(TowMinMaxesContaineachOther(firstminmax,secondminmax)):\n",
        "    AmountOfPairingsThatFullyContainEachOther += 1\n",
        "AmountOfPairingsThatFullyContainEachOther"
      ],
      "metadata": {
        "colab": {
          "base_uri": "https://localhost:8080/"
        },
        "id": "YH3yuAUlClkY",
        "outputId": "960bf4f2-780b-4238-c282-3e2f0ac3da3d"
      },
      "execution_count": 34,
      "outputs": [
        {
          "output_type": "execute_result",
          "data": {
            "text/plain": [
              "450"
            ]
          },
          "metadata": {},
          "execution_count": 34
        }
      ]
    },
    {
      "cell_type": "code",
      "source": [
        "def TowMinMaxesCompletelySeperated(first,second):\n",
        "   return FirstMinmaxSmaller(first,second) or FirstMinmaxSmaller(second,first)\n",
        "def FirstMinmaxSmaller(f,s):\n",
        "  if(f[1] < s[0]):\n",
        "    return True\n",
        "  return False\n",
        "\n",
        "AmountOfPairingsSeperated = 0\n",
        "for pairing in allpairings:\n",
        "  firstminmax, secondminmax = GetMinMaxPair(pairing)\n",
        "  if(TowMinMaxesCompletelySeperated(firstminmax,secondminmax)):\n",
        "    AmountOfPairingsSeperated += 1\n",
        "res = len(allpairings) - AmountOfPairingsSeperated\n",
        "res"
      ],
      "metadata": {
        "colab": {
          "base_uri": "https://localhost:8080/"
        },
        "id": "QW4qH-bYKdka",
        "outputId": "c26935e0-adfc-4663-d0e3-22498a9f1632"
      },
      "execution_count": 41,
      "outputs": [
        {
          "output_type": "execute_result",
          "data": {
            "text/plain": [
              "837"
            ]
          },
          "metadata": {},
          "execution_count": 41
        }
      ]
    }
  ]
}