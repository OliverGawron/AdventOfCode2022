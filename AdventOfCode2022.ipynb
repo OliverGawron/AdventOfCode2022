{
  "nbformat": 4,
  "nbformat_minor": 0,
  "metadata": {
    "colab": {
      "provenance": [],
      "authorship_tag": "ABX9TyPAIrM02qV+7eYXukt0eSmZ"
    },
    "kernelspec": {
      "name": "python3",
      "display_name": "Python 3"
    },
    "language_info": {
      "name": "python"
    }
  },
  "cells": [
    {
      "cell_type": "code",
      "execution_count": null,
      "metadata": {
        "id": "YV29Ucr1hf74"
      },
      "outputs": [],
      "source": [
        "def getDataFromGitHub(day, name=\"Input\"):\n",
        "  import requests\n",
        "  repo = 'https://raw.githubusercontent.com/OliverGawron/AdventOfCode2022/main/Data/';\n",
        "  fullpath = repo + 'Day' + str(day) + '_' + name\n",
        "  r = requests.get(fullpath)\n",
        "  return r.text"
      ]
    }
  ]
}