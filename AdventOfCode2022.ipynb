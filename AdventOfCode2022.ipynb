{
  "nbformat": 4,
  "nbformat_minor": 0,
  "metadata": {
    "colab": {
      "provenance": [],
      "authorship_tag": "ABX9TyOgMZRJ9Hlj82uCXPX5QV2X"
    },
    "kernelspec": {
      "name": "python3",
      "display_name": "Python 3"
    },
    "language_info": {
      "name": "python"
    }
  },
  "cells": [
    {
      "cell_type": "code",
      "execution_count": 6,
      "metadata": {
        "id": "YV29Ucr1hf74"
      },
      "outputs": [],
      "source": [
        "def getDataFromGitHub(day):\n",
        "  import requests\n",
        "  repo = 'https://raw.githubusercontent.com/OliverGawron/AdventOfCode2022/main/Data/';\n",
        "  fullpath = repo + 'Day' + str(day)\n",
        "  r = requests.get(fullpath)\n",
        "  return r.text.splitlines()"
      ]
    },
    {
      "cell_type": "markdown",
      "source": [
        "# Day 1\n",
        "Part 1"
      ],
      "metadata": {
        "id": "E4QBw_gUlk-7"
      }
    },
    {
      "cell_type": "code",
      "source": [
        "calories = getDataFromGitHub(1)\n",
        "elfs = []\n",
        "sum = 0\n",
        "for i in calories:\n",
        "  if(i == ''):\n",
        "    elfs.append(sum)\n",
        "    sum = 0;\n",
        "    continue\n",
        "  sum += int(i)\n",
        "max = max(elfs)\n",
        "max"
      ],
      "metadata": {
        "colab": {
          "base_uri": "https://localhost:8080/"
        },
        "id": "86tJazHWli4E",
        "outputId": "2311a593-ccf8-4012-dc7e-aadfe9787614"
      },
      "execution_count": 20,
      "outputs": [
        {
          "output_type": "execute_result",
          "data": {
            "text/plain": [
              "67450"
            ]
          },
          "metadata": {},
          "execution_count": 20
        }
      ]
    }
  ]
}