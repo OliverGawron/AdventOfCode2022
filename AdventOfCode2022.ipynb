{
  "nbformat": 4,
  "nbformat_minor": 0,
  "metadata": {
    "colab": {
      "provenance": [],
      "authorship_tag": "ABX9TyP4dEc1dNQv+G8IyX+pQP4j"
    },
    "kernelspec": {
      "name": "python3",
      "display_name": "Python 3"
    },
    "language_info": {
      "name": "python"
    }
  },
  "cells": [
    {
      "cell_type": "code",
      "execution_count": 1,
      "metadata": {
        "id": "YV29Ucr1hf74"
      },
      "outputs": [],
      "source": [
        "def getDataFromGitHub(day):\n",
        "  import requests\n",
        "  repo = 'https://raw.githubusercontent.com/OliverGawron/AdventOfCode2022/main/Data/';\n",
        "  fullpath = repo + 'Day' + str(day)\n",
        "  r = requests.get(fullpath)\n",
        "  return r.text.splitlines()"
      ]
    },
    {
      "cell_type": "markdown",
      "source": [
        "# Day 1\n",
        "Part 1"
      ],
      "metadata": {
        "id": "E4QBw_gUlk-7"
      }
    },
    {
      "cell_type": "code",
      "source": [
        "calories = getDataFromGitHub(1)\n",
        "elfs = []\n",
        "sum = 0\n",
        "for i in calories:\n",
        "  if(i == ''):\n",
        "    elfs.append(sum)\n",
        "    sum = 0;\n",
        "    continue\n",
        "  sum += int(i)\n",
        "max(elfs)"
      ],
      "metadata": {
        "colab": {
          "base_uri": "https://localhost:8080/"
        },
        "id": "86tJazHWli4E",
        "outputId": "7e393c38-9a45-4ec3-aa85-513a7268119b"
      },
      "execution_count": 2,
      "outputs": [
        {
          "output_type": "execute_result",
          "data": {
            "text/plain": [
              "67450"
            ]
          },
          "metadata": {},
          "execution_count": 2
        }
      ]
    },
    {
      "cell_type": "markdown",
      "source": [
        "Part 2"
      ],
      "metadata": {
        "id": "9ExU-62uv1qb"
      }
    },
    {
      "cell_type": "code",
      "source": [
        "elfs.sort(reverse = True)\n",
        "firstthree = 0\n",
        "for i in range(3):\n",
        "  firstthree += elfs[i]\n",
        "firstthree"
      ],
      "metadata": {
        "colab": {
          "base_uri": "https://localhost:8080/"
        },
        "id": "YxCYLeAWv3BA",
        "outputId": "cf433866-be5f-4718-9b7a-ece1fa81e8a3"
      },
      "execution_count": 4,
      "outputs": [
        {
          "output_type": "execute_result",
          "data": {
            "text/plain": [
              "199357"
            ]
          },
          "metadata": {},
          "execution_count": 4
        }
      ]
    }
  ]
}